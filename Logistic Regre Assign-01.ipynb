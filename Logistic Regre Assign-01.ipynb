{
 "cells": [
  {
   "cell_type": "code",
   "execution_count": 1,
   "id": "732545f8-baba-4dac-8804-9239b0c26fd7",
   "metadata": {},
   "outputs": [],
   "source": [
    "#Q1. Explain the difference between linear regression and logistic regression models. Provide an example of\n",
    "#a scenario where logistic regression would be more appropriate."
   ]
  },
  {
   "cell_type": "code",
   "execution_count": 2,
   "id": "4cc768a9-b0b3-4537-bf51-dc30038cc940",
   "metadata": {},
   "outputs": [],
   "source": [
    "#Linear Regression is used to handle regression problems whereas Logistic regression is used to handle the \n",
    "#classification problems.\n",
    "# Linear regression provides a continuous output but Logistic regression provides discreet output.\n",
    "#Regression algorithms solve regression problems such as house price predictions and weather predictions.\n",
    "#Classification algorithms solve classification problems like identifying spam e-mails, spotting cancer cells,\n",
    "#and speech recognition."
   ]
  },
  {
   "cell_type": "code",
   "execution_count": 3,
   "id": "1d31c0f4-59eb-46a8-af14-4a7a1c3ad812",
   "metadata": {},
   "outputs": [],
   "source": [
    "#Q2. What is the cost function used in logistic regression, and how is it optimized?"
   ]
  },
  {
   "cell_type": "code",
   "execution_count": 4,
   "id": "59d372fd-cc73-484c-a324-4519c8d1ede2",
   "metadata": {},
   "outputs": [],
   "source": [
    "#Cost Function helps to analyze how well a Machine Learning model performs. A Cost function basically compares \n",
    "#the predicted values with the actual values.\n",
    "# the logistic regression cost function is the negative log-likelihood."
   ]
  },
  {
   "cell_type": "code",
   "execution_count": 5,
   "id": "7243bba7-2235-4813-bbd1-e321c8738b68",
   "metadata": {},
   "outputs": [],
   "source": [
    "#Q3. Explain the concept of regularization in logistic regression and how it helps prevent overfitting."
   ]
  },
  {
   "cell_type": "code",
   "execution_count": 6,
   "id": "34f95cf2-d982-49ce-be07-db4077de3f63",
   "metadata": {},
   "outputs": [],
   "source": [
    "#Regularization is a technique that adds information to a model to prevent the occurrence of overfitting.\n",
    "#Regularization adds penalties to the parameters and avoids them weigh heavily."
   ]
  },
  {
   "cell_type": "code",
   "execution_count": 7,
   "id": "8bc9ad39-bc17-4e04-a339-98b0478a9fae",
   "metadata": {},
   "outputs": [],
   "source": [
    "#Q4. What is the ROC curve, and how is it used to evaluate the performance of the logistic regression\n",
    "#model?"
   ]
  },
  {
   "cell_type": "code",
   "execution_count": 8,
   "id": "3a23ff8a-e92f-49b0-81d0-360c79ba4609",
   "metadata": {},
   "outputs": [],
   "source": [
    "#produced by calculating and plotting the true positive rate against the false positive rate for a single \n",
    "#classifier at a variety of thresholds.\n",
    "#ROC Curve is a plot of True Positive Rate(TPR) plotted against False Positive Rate(FPR) at various threshold \n",
    "#values. It helps to visualize how threshold affects classifier performance."
   ]
  },
  {
   "cell_type": "code",
   "execution_count": 9,
   "id": "421f513a-4562-4b2d-a7ad-af6f1ad6e3db",
   "metadata": {},
   "outputs": [],
   "source": [
    "#Q5. What are some common techniques for feature selection in logistic regression? How do these\n",
    "#techniques help improve the model's performance?"
   ]
  },
  {
   "cell_type": "code",
   "execution_count": 11,
   "id": "7c734917-2694-436a-a21e-7677d3076163",
   "metadata": {},
   "outputs": [],
   "source": [
    "#Feature selection method is an automatic process that selects a subset of the independent variables(features) \n",
    "#from the existing set of features to create a model. The premise of this method is the removal of features that \n",
    "#are redundant and irrelevant without losing too much information.\n",
    "#the feature selection techniques which helps us in finding the smallest set of features which produces the \n",
    "#significant model fit."
   ]
  },
  {
   "cell_type": "code",
   "execution_count": 12,
   "id": "7a1b4fac-156f-411e-b7e9-f3e5cea5ed78",
   "metadata": {},
   "outputs": [],
   "source": [
    "#Q6. Q6. How can you handle imbalanced datasets in logistic regression? What are some strategies for dealing\n",
    "#with class imbalance?"
   ]
  },
  {
   "cell_type": "code",
   "execution_count": 13,
   "id": "9f204371-bcb0-4bc0-a670-8cdefacbd368",
   "metadata": {},
   "outputs": [],
   "source": [
    "#7 Techniques to Handle Imbalanced Data. ...\n",
    "#Use the right evaluation metrics. ...\n",
    "#Resample the training set. ...\n",
    "#Use K-fold Cross-Validation in the Right Way. ...\n",
    "#Ensemble Different Resampled Datasets. ...\n",
    "#Resample with Different Ratios. ...\n",
    "#Cluster the abundant class. ...\n",
    "#Design Your Models.\n",
    "#A widely adopted and perhaps the most straightforward method for dealing with highly imbalanced datasets is \n",
    "#called resampling. It consists of removing samples from the majority class (under-sampling) and/or adding more\n",
    "#examples from the minority class (over-sampling)."
   ]
  },
  {
   "cell_type": "code",
   "execution_count": 14,
   "id": "1b5e57b3-0737-4ca8-83eb-655aadd5db5e",
   "metadata": {},
   "outputs": [],
   "source": [
    "#Q7. Can you discuss some common issues and challenges that may arise when implementing logistic\n",
    "#regression, and how they can be addressed? For example, what can be done if there is multicollinearity\n",
    "#among the independent variables?"
   ]
  },
  {
   "cell_type": "code",
   "execution_count": 17,
   "id": "afaee4fb-6719-4e78-95a7-3823e138c525",
   "metadata": {},
   "outputs": [],
   "source": [
    "#Multicollinearity can cause unstable estimates and inaccurate variances which affects confidence intervals and \n",
    "#hypothesis tests\n",
    "#Multicollinearity is a common problem when estimating linear or generalized linear models, including logistic\n",
    "#regression and Cox regression. It occurs when there are high correlations among predictor variables, leading to \n",
    "#unreliable and unstable estimates of regression coefficients."
   ]
  },
  {
   "cell_type": "code",
   "execution_count": null,
   "id": "97096689-a87c-4e9e-ad84-14408eee57a9",
   "metadata": {},
   "outputs": [],
   "source": []
  },
  {
   "cell_type": "code",
   "execution_count": null,
   "id": "5ac592e4-0df3-4584-948a-c6196ccdd38d",
   "metadata": {},
   "outputs": [],
   "source": []
  },
  {
   "cell_type": "code",
   "execution_count": null,
   "id": "a1c618b3-4406-44ce-9d8b-c6968a643931",
   "metadata": {},
   "outputs": [],
   "source": []
  }
 ],
 "metadata": {
  "kernelspec": {
   "display_name": "Python 3 (ipykernel)",
   "language": "python",
   "name": "python3"
  },
  "language_info": {
   "codemirror_mode": {
    "name": "ipython",
    "version": 3
   },
   "file_extension": ".py",
   "mimetype": "text/x-python",
   "name": "python",
   "nbconvert_exporter": "python",
   "pygments_lexer": "ipython3",
   "version": "3.10.8"
  }
 },
 "nbformat": 4,
 "nbformat_minor": 5
}
